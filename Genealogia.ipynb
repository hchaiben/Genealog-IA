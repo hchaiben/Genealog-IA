{
  "nbformat": 4,
  "nbformat_minor": 0,
  "metadata": {
    "colab": {
      "provenance": [],
      "mount_file_id": "1qqFr_hDw0pGMCJ6R-ev5E3hxXoaQDmyL",
      "authorship_tag": "ABX9TyMbBsxmBrHMo3C5og+bapit",
      "include_colab_link": true
    },
    "kernelspec": {
      "name": "python3",
      "display_name": "Python 3"
    },
    "language_info": {
      "name": "python"
    }
  },
  "cells": [
    {
      "cell_type": "markdown",
      "metadata": {
        "id": "view-in-github",
        "colab_type": "text"
      },
      "source": [
        "<a href=\"https://colab.research.google.com/github/hchaiben/Genealog-IA/blob/main/Genealogia.ipynb\" target=\"_parent\"><img src=\"https://colab.research.google.com/assets/colab-badge.svg\" alt=\"Open In Colab\"/></a>"
      ]
    },
    {
      "cell_type": "code",
      "execution_count": null,
      "metadata": {
        "id": "8TVBEUqjdaOF"
      },
      "outputs": [],
      "source": [
        "pip install -q -U google-generativeai"
      ]
    },
    {
      "cell_type": "code",
      "source": [
        "pip install \"pandas[excel]\""
      ],
      "metadata": {
        "id": "mBHHFMKCxcEh",
        "colab": {
          "base_uri": "https://localhost:8080/"
        },
        "outputId": "7303ccb9-1420-4d57-f895-97d60d6d0ee9"
      },
      "execution_count": null,
      "outputs": [
        {
          "output_type": "stream",
          "name": "stdout",
          "text": [
            "Requirement already satisfied: pandas[excel] in /usr/local/lib/python3.10/dist-packages (2.0.3)\n",
            "Requirement already satisfied: python-dateutil>=2.8.2 in /usr/local/lib/python3.10/dist-packages (from pandas[excel]) (2.8.2)\n",
            "Requirement already satisfied: pytz>=2020.1 in /usr/local/lib/python3.10/dist-packages (from pandas[excel]) (2023.4)\n",
            "Requirement already satisfied: tzdata>=2022.1 in /usr/local/lib/python3.10/dist-packages (from pandas[excel]) (2024.1)\n",
            "Requirement already satisfied: numpy>=1.21.0 in /usr/local/lib/python3.10/dist-packages (from pandas[excel]) (1.25.2)\n",
            "Collecting odfpy>=1.4.1 (from pandas[excel])\n",
            "  Downloading odfpy-1.4.1.tar.gz (717 kB)\n",
            "\u001b[2K     \u001b[90m━━━━━━━━━━━━━━━━━━━━━━━━━━━━━━━━━━━━━━━━\u001b[0m \u001b[32m717.0/717.0 kB\u001b[0m \u001b[31m11.7 MB/s\u001b[0m eta \u001b[36m0:00:00\u001b[0m\n",
            "\u001b[?25h  Preparing metadata (setup.py) ... \u001b[?25l\u001b[?25hdone\n",
            "Requirement already satisfied: openpyxl>=3.0.7 in /usr/local/lib/python3.10/dist-packages (from pandas[excel]) (3.1.2)\n",
            "Collecting pyxlsb>=1.0.8 (from pandas[excel])\n",
            "  Downloading pyxlsb-1.0.10-py2.py3-none-any.whl (23 kB)\n",
            "Requirement already satisfied: xlrd>=2.0.1 in /usr/local/lib/python3.10/dist-packages (from pandas[excel]) (2.0.1)\n",
            "Collecting xlsxwriter>=1.4.3 (from pandas[excel])\n",
            "  Downloading XlsxWriter-3.2.0-py3-none-any.whl (159 kB)\n",
            "\u001b[2K     \u001b[90m━━━━━━━━━━━━━━━━━━━━━━━━━━━━━━━━━━━━━━━━\u001b[0m \u001b[32m159.9/159.9 kB\u001b[0m \u001b[31m19.1 MB/s\u001b[0m eta \u001b[36m0:00:00\u001b[0m\n",
            "\u001b[?25hRequirement already satisfied: defusedxml in /usr/local/lib/python3.10/dist-packages (from odfpy>=1.4.1->pandas[excel]) (0.7.1)\n",
            "Requirement already satisfied: et-xmlfile in /usr/local/lib/python3.10/dist-packages (from openpyxl>=3.0.7->pandas[excel]) (1.1.0)\n",
            "Requirement already satisfied: six>=1.5 in /usr/local/lib/python3.10/dist-packages (from python-dateutil>=2.8.2->pandas[excel]) (1.16.0)\n",
            "Building wheels for collected packages: odfpy\n",
            "  Building wheel for odfpy (setup.py) ... \u001b[?25l\u001b[?25hdone\n",
            "  Created wheel for odfpy: filename=odfpy-1.4.1-py2.py3-none-any.whl size=160672 sha256=525540b4fdf42809e03471eefe68d93fc2330f86d592abbc5fbd7f59e0ba59d0\n",
            "  Stored in directory: /root/.cache/pip/wheels/c8/2e/95/90d94fe33903786937f3b8c33dd88807f792359c6424b40469\n",
            "Successfully built odfpy\n",
            "Installing collected packages: pyxlsb, xlsxwriter, odfpy\n",
            "Successfully installed odfpy-1.4.1 pyxlsb-1.0.10 xlsxwriter-3.2.0\n"
          ]
        }
      ]
    },
    {
      "cell_type": "code",
      "source": [
        "pip install pandas\n"
      ],
      "metadata": {
        "id": "-s5F1GbewVMJ",
        "colab": {
          "base_uri": "https://localhost:8080/"
        },
        "outputId": "e86c1f75-01ca-4458-9db1-1fb5f844d300"
      },
      "execution_count": null,
      "outputs": [
        {
          "output_type": "stream",
          "name": "stdout",
          "text": [
            "Requirement already satisfied: pandas in /usr/local/lib/python3.10/dist-packages (2.0.3)\n",
            "Requirement already satisfied: python-dateutil>=2.8.2 in /usr/local/lib/python3.10/dist-packages (from pandas) (2.8.2)\n",
            "Requirement already satisfied: pytz>=2020.1 in /usr/local/lib/python3.10/dist-packages (from pandas) (2023.4)\n",
            "Requirement already satisfied: tzdata>=2022.1 in /usr/local/lib/python3.10/dist-packages (from pandas) (2024.1)\n",
            "Requirement already satisfied: numpy>=1.21.0 in /usr/local/lib/python3.10/dist-packages (from pandas) (1.25.2)\n",
            "Requirement already satisfied: six>=1.5 in /usr/local/lib/python3.10/dist-packages (from python-dateutil>=2.8.2->pandas) (1.16.0)\n"
          ]
        }
      ]
    },
    {
      "cell_type": "code",
      "source": [
        "# Used to securely store your API key\n",
        "from google.colab import userdata\n",
        "\n",
        "from google.colab import files\n",
        "\n",
        "# Import the Python SDK\n",
        "import google.generativeai as genai\n",
        "\n",
        "#import openpyxl\n",
        "\n",
        "# Outros imports...\n",
        "import pandas as pd\n",
        "\n",
        "pd.options.display.max_rows = 999\n",
        "\n",
        "# Configura GOOGLE API...\n",
        "GOOGLE_API_KEY=userdata.get('api_key_hamilton')\n",
        "genai.configure(api_key=GOOGLE_API_KEY)\n",
        "\n",
        "# Modelo Gemini a ser usado...\n",
        "model = genai.GenerativeModel('gemini-pro')\n",
        "\n",
        "#Configurações de alguns parâmetros da geração...\n",
        "generation_config = {\n",
        "    \"candidate_count\": 1,\n",
        "    \"temperature\": 0,\n",
        "}\n",
        "\n",
        "# Caso queira carregar (de algum diretório de seu computador) a planilha com as\n",
        "# informações de sua árvore genealógica, descomente a próxima linha...\n",
        "# planilha = files.upload()\n",
        "\n",
        "# Caso o arquivo já tenha sido carregado previamente no ambiente colab...\n",
        "planilha_familia = \"/content/drive/MyDrive/Genealogia/Planilha_da_Familia.xlsx\"\n",
        "\n",
        "planilha     = pd.read_excel(planilha_familia)\n",
        "\n",
        "planilha.dtypes\n",
        "\n",
        "#Sugestões de nomes para o teste...Outros nomes podem ser vistos na planilha...\n",
        "print('Alguns nomes que estão na árvore genealógica que podem ser usados \\\n",
        " para o teste são: Maria Smolak, Abib Chaiben, Gabriel Smolak, Emília Chaiben, Floriano Renaud...')\n",
        "\n",
        "# Carrega o nome da pessoa da árvore genealógica para gerar a sua história\n",
        "nome = input(f'Criar uma história sobre este familiar da árvore genealógica: ')\n",
        "\n",
        "# Compara o nome com a linha da planilha genealógica nas 3 colunas Nome Completo,\n",
        "# Nome do Pai, e Nome da Mãe\n",
        "pessoa      = planilha.loc[planilha['NOME_COMPLETO']  == nome]\n",
        "filhos_m    = planilha.loc[planilha['NOME_DO_PAI']    == nome]\n",
        "filhos_f    = planilha.loc[planilha['NOME_DA_MAE']    == nome]\n",
        "\n",
        "anotacoes = pessoa.ANOTACOES\n",
        "\n",
        "# Montagem do prompt\n",
        "response = model.generate_content(f\"Aja como um genealogista que vai escrever a \\\n",
        " história de sua família. Baseado exatamente nas informações da pessoa {pessoa} \\\n",
        " e de {anotacoes} contida na planilha, escreva então uma boa e verídica história \\\n",
        "  sobre ela em cerca de 5 parágrafos, relacionando os filhos {filhos_m} ou \\\n",
        "   {filhos_f} (se houver) com as respectivas datas de nascimento, morte,\\\n",
        "   batizado e demais datas importantes, dando assim uma abordagem sensível da \\\n",
        "    importância da pessoa no contexto familiar e da emigração no Brasil\")\n",
        "\n",
        "# salvar a resposta em um arquivo .txt\n",
        "\n",
        "nome_do_arquivo = nome+\".txt\"\n",
        "\n",
        "file = open(nome_do_arquivo, 'w')\n",
        "file.write(response.text)\n",
        "file.close()\n",
        "\n",
        "#print(response.text)\n",
        "\n",
        "\n"
      ],
      "metadata": {
        "id": "IhmkM1mkeM7d"
      },
      "execution_count": null,
      "outputs": []
    },
    {
      "cell_type": "code",
      "source": [],
      "metadata": {
        "id": "nDCFCZ6XoYxr"
      },
      "execution_count": null,
      "outputs": []
    },
    {
      "cell_type": "code",
      "source": [],
      "metadata": {
        "id": "ZEfo1MfPza_9"
      },
      "execution_count": null,
      "outputs": []
    },
    {
      "cell_type": "code",
      "source": [],
      "metadata": {
        "id": "JYw75K9ezU9I"
      },
      "execution_count": null,
      "outputs": []
    }
  ]
}