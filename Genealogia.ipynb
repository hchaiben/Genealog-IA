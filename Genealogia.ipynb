{
  "nbformat": 4,
  "nbformat_minor": 0,
  "metadata": {
    "colab": {
      "provenance": [],
      "mount_file_id": "1qqFr_hDw0pGMCJ6R-ev5E3hxXoaQDmyL",
      "authorship_tag": "ABX9TyNj72B9lSPBlioJdIdKiEIb",
      "include_colab_link": true
    },
    "kernelspec": {
      "name": "python3",
      "display_name": "Python 3"
    },
    "language_info": {
      "name": "python"
    }
  },
  "cells": [
    {
      "cell_type": "markdown",
      "metadata": {
        "id": "view-in-github",
        "colab_type": "text"
      },
      "source": [
        "<a href=\"https://colab.research.google.com/github/hchaiben/Genealog-IA/blob/main/Genealogia.ipynb\" target=\"_parent\"><img src=\"https://colab.research.google.com/assets/colab-badge.svg\" alt=\"Open In Colab\"/></a>"
      ]
    },
    {
      "cell_type": "code",
      "execution_count": null,
      "metadata": {
        "id": "8TVBEUqjdaOF"
      },
      "outputs": [],
      "source": [
        "pip install -q -U google-generativeai"
      ]
    },
    {
      "cell_type": "code",
      "source": [
        "pip install \"pandas[excel]\""
      ],
      "metadata": {
        "id": "mBHHFMKCxcEh"
      },
      "execution_count": null,
      "outputs": []
    },
    {
      "cell_type": "code",
      "source": [
        "pip install pandas\n"
      ],
      "metadata": {
        "id": "-s5F1GbewVMJ"
      },
      "execution_count": null,
      "outputs": []
    },
    {
      "cell_type": "code",
      "source": [
        "# Used to securely store your API key\n",
        "from google.colab import userdata\n",
        "\n",
        "from google.colab import files\n",
        "\n",
        "# Import the Python SDK\n",
        "import google.generativeai as genai\n",
        "\n",
        "#import openpyxl\n",
        "\n",
        "# Outros imports...\n",
        "import pandas as pd\n",
        "\n",
        "pd.options.display.max_rows = 999\n",
        "\n",
        "# Configura GOOGLE API...\n",
        "GOOGLE_API_KEY=userdata.get('api_key_hamilton')\n",
        "genai.configure(api_key=GOOGLE_API_KEY)\n",
        "\n",
        "# Modelo Gemini a ser usado...\n",
        "model = genai.GenerativeModel('gemini-pro')\n",
        "\n",
        "#Configurações de alguns parâmetros da geração...\n",
        "generation_config = {\n",
        "    \"candidate_count\": 1,\n",
        "    \"temperature\": 0,\n",
        "}\n",
        "\n",
        "# Caso queira carregar (de algum diretório de seu computador) a planilha com as\n",
        "# informações de sua árvore genealógica, descomente a próxima linha...\n",
        "# planilha = files.upload()\n",
        "\n",
        "# Caso o arquivo já tenha sido carregado previamente no ambiente colab...\n",
        "planilha_familia = \"/content/drive/MyDrive/Genealogia/Planilha_da_Familia.xlsx\"\n",
        "\n",
        "planilha     = pd.read_excel(planilha_familia)\n",
        "\n",
        "planilha.dtypes\n",
        "\n",
        "#Sugestões de nomes para o teste...Outros nomes podem ser vistos na planilha...\n",
        "print('Alguns nomes que estão na árvore genealógica que podem ser usados \\\n",
        " para o teste são: Maria Smolak, Abib Chaiben, Gabriel Smolak, Emília Chaiben, Floriano Renaud...')\n",
        "\n",
        "# Carrega o nome da pessoa da árvore genealógica para gerar a sua história\n",
        "nome = input(f'Criar uma história sobre este familiar da árvore genealógica: ')\n",
        "\n",
        "# Compara o nome com a linha da planilha genealógica nas 3 colunas Nome Completo,\n",
        "# Nome do Pai, e Nome da Mãe\n",
        "pessoa      = planilha.loc[planilha['NOME_COMPLETO']  == nome]\n",
        "filhos_m    = planilha.loc[planilha['NOME_DO_PAI']    == nome]\n",
        "filhos_f    = planilha.loc[planilha['NOME_DA_MAE']    == nome]\n",
        "\n",
        "anotacoes = pessoa.ANOTACOES\n",
        "\n",
        "# Montagem do prompt\n",
        "response = model.generate_content(f\"Aja como um genealogista que vai escrever a \\\n",
        " história de sua família. Baseado exatamente nas informações da pessoa {pessoa} \\\n",
        " e de {anotacoes} contida na planilha, escreva então uma boa e verídica história \\\n",
        "  sobre ela em cerca de 5 parágrafos, relacionando os filhos {filhos_m} ou \\\n",
        "   {filhos_f} (se houver) com as respectivas datas de nascimento, morte,\\\n",
        "   batizado e demais datas importantes, dando assim uma abordagem sensível da \\\n",
        "    importância da pessoa no contexto familiar e da emigração no Brasil\")\n",
        "\n",
        "# salvar a resposta em um arquivo .txt\n",
        "\n",
        "nome_do_arquivo = nome+\".txt\"\n",
        "\n",
        "file = open(nome_do_arquivo, 'w')\n",
        "file.write(response.text)\n",
        "file.close()\n",
        "\n",
        "#print(response.text)\n",
        "\n",
        "\n"
      ],
      "metadata": {
        "colab": {
          "base_uri": "https://localhost:8080/",
          "height": 72
        },
        "id": "IhmkM1mkeM7d",
        "outputId": "30b21569-8cea-40da-a418-94360b5a86fb"
      },
      "execution_count": 8,
      "outputs": [
        {
          "name": "stdout",
          "output_type": "stream",
          "text": [
            "Alguns nomes que estão na árvore genealógica que podem ser usados  para o teste são: Maria Smolak, Abib Chaiben, Gabriel Smolak, Emília Chaiben, Floriano Renaud...\n",
            "Criar uma história sobre este familiar da árvore genealógica: Floriano Renaud\n"
          ]
        }
      ]
    }
  ]
}